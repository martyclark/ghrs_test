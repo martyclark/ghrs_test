{
 "cells": [
  {
   "cell_type": "code",
   "execution_count": null,
   "id": "136261b0",
   "metadata": {},
   "outputs": [],
   "source": [
    "import pandas as pd\n",
    "import geopandas as gpd\n",
    "from keplergl import KeplerGl\n",
    "from voila.app import Voila"
   ]
  },
  {
   "cell_type": "code",
   "execution_count": null,
   "id": "6e45afb7",
   "metadata": {},
   "outputs": [],
   "source": [
    "# Read Data\n",
    "df = pd.read_csv(\"data/merged_heatData.csv\")\n",
    "gdf = gpd.GeoDataFrame(df, geometry=gpd.points_from_xy(df.GCPNT_LON, df.GCPNT_LAT))"
   ]
  },
  {
   "cell_type": "code",
   "execution_count": null,
   "id": "5bac8b5e",
   "metadata": {},
   "outputs": [],
   "source": [
    "# Create Kepler.gl Map (with your specific configuration)\n",
    "map_1 = KeplerGl(height=400, config=config)  # Reuse your 'config' from the original script\n",
    "map_1.add_data(data=gdf, name='merged_data')"
   ]
  },
  {
   "cell_type": "code",
   "execution_count": null,
   "id": "266f3a33",
   "metadata": {},
   "outputs": [],
   "source": [
    "# Voila App\n",
    "app = Voila(map_1)  # Create the Voila app, passing your Kepler.gl map as content"
   ]
  },
  {
   "cell_type": "code",
   "execution_count": null,
   "id": "dc0225e3",
   "metadata": {},
   "outputs": [],
   "source": [
    "# Run App (Optional if using 'voila app.py' command later)\n",
    "if __name__ == '__main__':\n",
    "    app.run()"
   ]
  },
  {
   "cell_type": "code",
   "execution_count": null,
   "id": "7176e5b9",
   "metadata": {},
   "outputs": [],
   "source": []
  }
 ],
 "metadata": {
  "jupytext": {
   "cell_metadata_filter": "-all",
   "main_language": "python",
   "notebook_metadata_filter": "-all"
  }
 },
 "nbformat": 4,
 "nbformat_minor": 5
}
